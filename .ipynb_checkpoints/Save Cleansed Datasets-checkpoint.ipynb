{
 "cells": [
  {
   "cell_type": "markdown",
   "id": "992f7cb7",
   "metadata": {},
   "source": [
    "# Save Cleansed Datasets Locally"
   ]
  },
  {
   "cell_type": "markdown",
   "id": "c0b4a69f",
   "metadata": {},
   "source": [
    "## The Network Based Model"
   ]
  },
  {
   "cell_type": "code",
   "execution_count": 11,
   "id": "65325ae0",
   "metadata": {},
   "outputs": [],
   "source": [
    "import warnings\n",
    "warnings.filterwarnings('ignore')"
   ]
  },
  {
   "cell_type": "code",
   "execution_count": 2,
   "id": "46a4119d",
   "metadata": {},
   "outputs": [],
   "source": [
    "# ! pip install spacy\n",
    "# ! pip install Levenshtein"
   ]
  },
  {
   "cell_type": "code",
   "execution_count": 134,
   "id": "71683096",
   "metadata": {},
   "outputs": [],
   "source": [
    "import pandas as pd\n",
    "import ast\n",
    "import numpy as np\n",
    "import random\n",
    "import re\n",
    "from collections import Counter\n",
    "from sklearn.feature_extraction.text import TfidfVectorizer\n",
    "from sklearn.metrics.pairwise import linear_kernel\n",
    "from scipy.sparse import csr_matrix\n",
    "from sklearn.neighbors import NearestNeighbors\n",
    "import pickle\n",
    "from tqdm import tqdm"
   ]
  },
  {
   "cell_type": "markdown",
   "id": "98d0c449",
   "metadata": {},
   "source": [
    "### Import Files"
   ]
  },
  {
   "cell_type": "code",
   "execution_count": 135,
   "id": "417f32e2",
   "metadata": {},
   "outputs": [],
   "source": [
    "ratings_df = pd.read_csv('dataset_dont_upload/ratings.csv')\n",
    "links_df = pd.read_csv('dataset_dont_upload/links.csv')\n",
    "ratings_df = ratings_df.merge(links_df[['movieId', 'imdbId']], on='movieId')\n",
    "#add imdbID column to ratings_df\n",
    "#imdbId column will match to metadata_df below to get the movie's title"
   ]
  },
  {
   "cell_type": "code",
   "execution_count": 136,
   "id": "8647f936",
   "metadata": {},
   "outputs": [],
   "source": [
    "#columns to keep\n",
    "metadata_df = pd.read_csv('dataset_dont_upload/movies_metadata.csv')\n",
    "columns = ['adult', 'belongs_to_collection', 'budget', 'genres', 'id',\n",
    "       'imdb_id', 'original_language', 'overview',\n",
    "       'popularity', 'release_date', 'revenue', 'runtime',\n",
    "       'spoken_languages', 'tagline', 'title',\n",
    "       'vote_average', 'vote_count']\n",
    "metadata_df = metadata_df[columns]"
   ]
  },
  {
   "cell_type": "code",
   "execution_count": 137,
   "id": "5fe0382c",
   "metadata": {},
   "outputs": [],
   "source": [
    "credits_df = pd.read_csv('dataset_dont_upload/credits.csv')"
   ]
  },
  {
   "cell_type": "code",
   "execution_count": 138,
   "id": "e1fa863b",
   "metadata": {},
   "outputs": [],
   "source": [
    "#this is in directory 'Capstone Resources/CMU' and they are the data from:\n",
    "#http://www.cs.cmu.edu/~ark/personas/\n",
    "\n",
    "#df with summaries\n",
    "summary_df = pd.read_csv('dataset_dont_upload/plot_summaries.txt', sep='\\t', header=None)\n",
    "summary_df.rename(columns={0:'wikiId', 1:'Summary'}, inplace=True)"
   ]
  },
  {
   "cell_type": "code",
   "execution_count": 139,
   "id": "c3b381e4",
   "metadata": {},
   "outputs": [],
   "source": [
    "#this is in directory 'Capstone Resources/CMU' and they are the data from:\n",
    "# http://www.cs.cmu.edu/~ark/personas/\n",
    "\n",
    "#df to get title from wikiId\n",
    "summarykey_df = pd.read_csv('dataset_dont_upload/movie.metadata.tsv', sep='\\t', header=None)\n",
    "\n",
    "#keeping only wikiId and Title columns\n",
    "summarykey_df = summarykey_df[[0, 2]]\n",
    "summarykey_df.rename(columns={0:'wikiId', 2:'title'}, inplace=True)"
   ]
  },
  {
   "cell_type": "markdown",
   "id": "9b69c899",
   "metadata": {},
   "source": [
    "### Data Cleaning"
   ]
  },
  {
   "cell_type": "code",
   "execution_count": 140,
   "id": "5789a76b",
   "metadata": {},
   "outputs": [],
   "source": [
    "#some additional clean up\n",
    "\n",
    "#remove any entry where the title isn't named\n",
    "metadata_df.dropna(subset=['title'], inplace=True)\n",
    "\n",
    "#let's not recommend anything X rated\n",
    "metadata_df['adult'] = metadata_df['adult'].astype(str)\n",
    "metadata_df = metadata_df[metadata_df['adult'] == 'False']\n",
    "metadata_df.drop(columns=['adult'], inplace=True)\n",
    "\n",
    "#modify imdb_id column to match ratings_df\n",
    "metadata_df['imdb_id'] = metadata_df['imdb_id'].str[2:]\n",
    "metadata_df.rename(columns={'imdb_id':'imdbId'}, inplace=True)\n",
    "\n",
    "#change id to an integer\n",
    "metadata_df['id'] = metadata_df['id'].astype('str').astype('int')\n",
    "\n",
    "#modify genres column into a list\n",
    "metadata_df['genres'] = metadata_df['genres'].astype('str')\n",
    "metadata_df['genres'] = metadata_df['genres'].apply(ast.literal_eval)\n",
    "metadata_df['genres'] = [[j['name'] for j in i] for i in metadata_df['genres']]\n",
    "\n",
    "#modify belongs_to_collection column into a string if it exists\n",
    "metadata_df['belongs_to_collection'] = metadata_df['belongs_to_collection'].astype('str')\n",
    "this = []\n",
    "for i in metadata_df['belongs_to_collection']:\n",
    "    if i == 'nan':\n",
    "        this.append('None')\n",
    "    else:\n",
    "        try:\n",
    "            dictionary = ast.literal_eval(i)\n",
    "            this.append(dictionary['name'])\n",
    "        except:\n",
    "            this.append('None')\n",
    "metadata_df['belongs_to_collection'] = this"
   ]
  },
  {
   "cell_type": "code",
   "execution_count": 141,
   "id": "c252b5bb",
   "metadata": {},
   "outputs": [
    {
     "data": {
      "text/html": [
       "<div>\n",
       "<style scoped>\n",
       "    .dataframe tbody tr th:only-of-type {\n",
       "        vertical-align: middle;\n",
       "    }\n",
       "\n",
       "    .dataframe tbody tr th {\n",
       "        vertical-align: top;\n",
       "    }\n",
       "\n",
       "    .dataframe thead th {\n",
       "        text-align: right;\n",
       "    }\n",
       "</style>\n",
       "<table border=\"1\" class=\"dataframe\">\n",
       "  <thead>\n",
       "    <tr style=\"text-align: right;\">\n",
       "      <th></th>\n",
       "      <th>cast</th>\n",
       "      <th>id</th>\n",
       "      <th>director</th>\n",
       "      <th>writer</th>\n",
       "      <th>producer</th>\n",
       "      <th>executive producer</th>\n",
       "      <th>score</th>\n",
       "    </tr>\n",
       "  </thead>\n",
       "  <tbody>\n",
       "    <tr>\n",
       "      <th>0</th>\n",
       "      <td>[Tom Hanks, Tim Allen, Don Rickles, Jim Varney...</td>\n",
       "      <td>862</td>\n",
       "      <td>[John Lasseter]</td>\n",
       "      <td>[Joss Whedon, Andrew Stanton, Joel Cohen, Alec...</td>\n",
       "      <td>[Bonnie Arnold, Ralph Guggenheim]</td>\n",
       "      <td>[Ed Catmull, Steve Jobs]</td>\n",
       "      <td>[Randy Newman]</td>\n",
       "    </tr>\n",
       "    <tr>\n",
       "      <th>1</th>\n",
       "      <td>[Robin Williams, Jonathan Hyde, Kirsten Dunst,...</td>\n",
       "      <td>8844</td>\n",
       "      <td>[Joe Johnston]</td>\n",
       "      <td>[Jonathan Hensleigh, Greg Taylor, Jim Strain]</td>\n",
       "      <td>[Scott Kroopf, William Teitler]</td>\n",
       "      <td>[Larry J. Franco, Ted Field, Robert W. Cort]</td>\n",
       "      <td>[]</td>\n",
       "    </tr>\n",
       "    <tr>\n",
       "      <th>2</th>\n",
       "      <td>[Walter Matthau, Jack Lemmon, Ann-Margret, Sop...</td>\n",
       "      <td>15602</td>\n",
       "      <td>[Howard Deutch]</td>\n",
       "      <td>[]</td>\n",
       "      <td>[]</td>\n",
       "      <td>[]</td>\n",
       "      <td>[]</td>\n",
       "    </tr>\n",
       "    <tr>\n",
       "      <th>3</th>\n",
       "      <td>[Whitney Houston, Angela Bassett, Loretta Devi...</td>\n",
       "      <td>31357</td>\n",
       "      <td>[Forest Whitaker]</td>\n",
       "      <td>[Ronald Bass, Terry McMillan]</td>\n",
       "      <td>[Ronald Bass, Ezra Swerdlow, Deborah Schindler...</td>\n",
       "      <td>[Terry McMillan]</td>\n",
       "      <td>[]</td>\n",
       "    </tr>\n",
       "    <tr>\n",
       "      <th>4</th>\n",
       "      <td>[Steve Martin, Diane Keaton, Martin Short, Kim...</td>\n",
       "      <td>11862</td>\n",
       "      <td>[Charles Shyer]</td>\n",
       "      <td>[Nancy Meyers, Albert Hackett]</td>\n",
       "      <td>[Nancy Meyers]</td>\n",
       "      <td>[]</td>\n",
       "      <td>[]</td>\n",
       "    </tr>\n",
       "  </tbody>\n",
       "</table>\n",
       "</div>"
      ],
      "text/plain": [
       "                                                cast     id  \\\n",
       "0  [Tom Hanks, Tim Allen, Don Rickles, Jim Varney...    862   \n",
       "1  [Robin Williams, Jonathan Hyde, Kirsten Dunst,...   8844   \n",
       "2  [Walter Matthau, Jack Lemmon, Ann-Margret, Sop...  15602   \n",
       "3  [Whitney Houston, Angela Bassett, Loretta Devi...  31357   \n",
       "4  [Steve Martin, Diane Keaton, Martin Short, Kim...  11862   \n",
       "\n",
       "            director                                             writer  \\\n",
       "0    [John Lasseter]  [Joss Whedon, Andrew Stanton, Joel Cohen, Alec...   \n",
       "1     [Joe Johnston]      [Jonathan Hensleigh, Greg Taylor, Jim Strain]   \n",
       "2    [Howard Deutch]                                                 []   \n",
       "3  [Forest Whitaker]                      [Ronald Bass, Terry McMillan]   \n",
       "4    [Charles Shyer]                     [Nancy Meyers, Albert Hackett]   \n",
       "\n",
       "                                            producer  \\\n",
       "0                  [Bonnie Arnold, Ralph Guggenheim]   \n",
       "1                    [Scott Kroopf, William Teitler]   \n",
       "2                                                 []   \n",
       "3  [Ronald Bass, Ezra Swerdlow, Deborah Schindler...   \n",
       "4                                     [Nancy Meyers]   \n",
       "\n",
       "                             executive producer           score  \n",
       "0                      [Ed Catmull, Steve Jobs]  [Randy Newman]  \n",
       "1  [Larry J. Franco, Ted Field, Robert W. Cort]              []  \n",
       "2                                            []              []  \n",
       "3                              [Terry McMillan]              []  \n",
       "4                                            []              []  "
      ]
     },
     "execution_count": 141,
     "metadata": {},
     "output_type": "execute_result"
    }
   ],
   "source": [
    "#convert cast to a list of names\n",
    "credits_df['cast'] = credits_df['cast'].apply(ast.literal_eval)\n",
    "credits_df['cast'] = [[j['name'] for j in i] for i in credits_df['cast']]\n",
    "\n",
    "#create a column for a list of each of the major roles\n",
    "credits_df['crew'] = credits_df['crew'].apply(ast.literal_eval)\n",
    "credits_df['director'] = [[j['name'] for j in i if j['job'] == 'Director'] for i in credits_df['crew']]\n",
    "credits_df['writer'] = [[j['name'] for j in i if j['job'] == 'Screenplay'] for i in credits_df['crew']]\n",
    "credits_df['producer'] = [[j['name'] for j in i if j['job'] == 'Producer'] for i in credits_df['crew']]\n",
    "credits_df['executive producer'] = [[j['name'] for j in i if j['job'] == 'Executive Producer'] for i in credits_df['crew']]\n",
    "credits_df['score'] = [[j['name'] for j in i if j['job'] == 'Music'] for i in credits_df['crew']]\n",
    "\n",
    "credits_df.drop(columns=['crew'], inplace=True)\n",
    "\n",
    "credits_df.head()"
   ]
  },
  {
   "cell_type": "code",
   "execution_count": 142,
   "id": "5d2f3c35",
   "metadata": {},
   "outputs": [],
   "source": [
    "#merge cast and crew with metadata\n",
    "metadata_df = metadata_df.merge(credits_df, on='id')"
   ]
  },
  {
   "cell_type": "code",
   "execution_count": 143,
   "id": "b88c7882",
   "metadata": {},
   "outputs": [
    {
     "data": {
      "text/html": [
       "<div>\n",
       "<style scoped>\n",
       "    .dataframe tbody tr th:only-of-type {\n",
       "        vertical-align: middle;\n",
       "    }\n",
       "\n",
       "    .dataframe tbody tr th {\n",
       "        vertical-align: top;\n",
       "    }\n",
       "\n",
       "    .dataframe thead th {\n",
       "        text-align: right;\n",
       "    }\n",
       "</style>\n",
       "<table border=\"1\" class=\"dataframe\">\n",
       "  <thead>\n",
       "    <tr style=\"text-align: right;\">\n",
       "      <th></th>\n",
       "      <th>wikiId</th>\n",
       "      <th>Summary</th>\n",
       "      <th>title</th>\n",
       "    </tr>\n",
       "  </thead>\n",
       "  <tbody>\n",
       "    <tr>\n",
       "      <th>0</th>\n",
       "      <td>23890098</td>\n",
       "      <td>Shlykov, a hard-working taxi driver and Lyosha...</td>\n",
       "      <td>Taxi Blues</td>\n",
       "    </tr>\n",
       "    <tr>\n",
       "      <th>1</th>\n",
       "      <td>31186339</td>\n",
       "      <td>The nation of Panem consists of a wealthy Capi...</td>\n",
       "      <td>The Hunger Games</td>\n",
       "    </tr>\n",
       "    <tr>\n",
       "      <th>2</th>\n",
       "      <td>20663735</td>\n",
       "      <td>Poovalli Induchoodan  is sentenced for six yea...</td>\n",
       "      <td>Narasimham</td>\n",
       "    </tr>\n",
       "    <tr>\n",
       "      <th>3</th>\n",
       "      <td>2231378</td>\n",
       "      <td>The Lemon Drop Kid , a New York City swindler,...</td>\n",
       "      <td>The Lemon Drop Kid</td>\n",
       "    </tr>\n",
       "    <tr>\n",
       "      <th>4</th>\n",
       "      <td>595909</td>\n",
       "      <td>Seventh-day Adventist Church pastor Michael Ch...</td>\n",
       "      <td>A Cry in the Dark</td>\n",
       "    </tr>\n",
       "  </tbody>\n",
       "</table>\n",
       "</div>"
      ],
      "text/plain": [
       "     wikiId                                            Summary  \\\n",
       "0  23890098  Shlykov, a hard-working taxi driver and Lyosha...   \n",
       "1  31186339  The nation of Panem consists of a wealthy Capi...   \n",
       "2  20663735  Poovalli Induchoodan  is sentenced for six yea...   \n",
       "3   2231378  The Lemon Drop Kid , a New York City swindler,...   \n",
       "4    595909  Seventh-day Adventist Church pastor Michael Ch...   \n",
       "\n",
       "                title  \n",
       "0          Taxi Blues  \n",
       "1    The Hunger Games  \n",
       "2          Narasimham  \n",
       "3  The Lemon Drop Kid  \n",
       "4   A Cry in the Dark  "
      ]
     },
     "execution_count": 143,
     "metadata": {},
     "output_type": "execute_result"
    }
   ],
   "source": [
    "#add title from summarykey_df to summary_df\n",
    "summary_df = summary_df.merge(summarykey_df, on='wikiId')\n",
    "#summary_df.drop(columns=['wikiId'], inplace=True)\n",
    "summary_df['title'] = summary_df['title'].astype(str)\n",
    "\n",
    "summary_df.head()"
   ]
  },
  {
   "cell_type": "code",
   "execution_count": 144,
   "id": "7663391e",
   "metadata": {},
   "outputs": [
    {
     "name": "stdout",
     "output_type": "stream",
     "text": [
      "Loss due to merge with summary_df:  20841\n",
      "Remaining:  24685\n"
     ]
    }
   ],
   "source": [
    "#merge metadata_df and summary_df and see how many movies we lost in the merge\n",
    "\n",
    "before_summary_df = len(metadata_df)\n",
    "metadata_df = metadata_df.merge(summary_df, on = 'title')\n",
    "after_summary_df = len(metadata_df)\n",
    "print('Loss due to merge with summary_df: ', before_summary_df - after_summary_df)\n",
    "print('Remaining: ', after_summary_df)"
   ]
  },
  {
   "cell_type": "code",
   "execution_count": 145,
   "id": "3e0c777f",
   "metadata": {},
   "outputs": [],
   "source": [
    "#Add release year to title if database contains more than one title with the same name\n",
    "year = []\n",
    "for date in metadata_df['release_date'].astype('str'):\n",
    "    year.append(date[0:4])\n",
    "metadata_df['release_year'] = year\n",
    "\n",
    "duplicates_list = list(metadata_df['title'][metadata_df['title'].duplicated(keep=False)].unique())\n",
    "for i in range(len(metadata_df)):\n",
    "    if metadata_df['title'].iloc[i] in duplicates_list:\n",
    "        metadata_df['title'].iloc[i] = metadata_df['title'].iloc[i] + '(' + metadata_df['release_year'].iloc[i] + ')'"
   ]
  },
  {
   "cell_type": "code",
   "execution_count": 146,
   "id": "1632d6f3",
   "metadata": {},
   "outputs": [],
   "source": [
    "#the merge above made multiple instances of the same movie if there were duplicate titles\n",
    "\n",
    "metadata_df = metadata_df[metadata_df['overview'].notna()]\n",
    "duplicates_list = list(metadata_df['title'][metadata_df['title'].duplicated(keep=False)].unique())\n",
    "\n",
    "#to resolve, only keep the row from the duplicates where the overview from metadata_df and the summary from summary_df\n",
    "#are the most similar\n",
    "for title in duplicates_list:\n",
    "    \n",
    "    overview = list(metadata_df[metadata_df['title'] == title]['overview'])\n",
    "    summary = list(metadata_df[metadata_df['title'] == title]['Summary'])\n",
    "\n",
    "    sim_list = []\n",
    "    for i in range(len(overview)):\n",
    "        vect = TfidfVectorizer(min_df=1, stop_words=\"english\")                                                                                                                                                                                                   \n",
    "        tfidf = vect.fit_transform([overview[i], summary[i]])\n",
    "        sim_list.append((tfidf * tfidf.T).toarray()[0][1])\n",
    "\n",
    "    indices = metadata_df[metadata_df['title'] == title].index\n",
    "    \n",
    "    to_drop = [True for i in range(len(sim_list))]\n",
    "    to_drop[np.argmax(sim_list)] = False  ###drop all duplicated movies except the one where overview and summary are most similar\n",
    "    \n",
    "    index_to_drop = indices[to_drop]\n",
    "    metadata_df.drop(index = index_to_drop, inplace=True)\n",
    "\n",
    "metadata_df.reset_index(inplace=True)"
   ]
  },
  {
   "cell_type": "code",
   "execution_count": 147,
   "id": "69132b00",
   "metadata": {},
   "outputs": [
    {
     "data": {
      "text/plain": [
       "20227"
      ]
     },
     "execution_count": 147,
     "metadata": {},
     "output_type": "execute_result"
    }
   ],
   "source": [
    "len(metadata_df)"
   ]
  },
  {
   "cell_type": "code",
   "execution_count": 148,
   "id": "4e161302",
   "metadata": {},
   "outputs": [
    {
     "name": "stdout",
     "output_type": "stream",
     "text": [
      "Loss due to removal of duplicate titles:  4458\n",
      "Remaining:  20227\n"
     ]
    }
   ],
   "source": [
    "#final number of movies in df\n",
    "\n",
    "final_metadata_len = len(metadata_df)\n",
    "print('Loss due to removal of duplicate titles: ', after_summary_df - final_metadata_len)\n",
    "print('Remaining: ', final_metadata_len)"
   ]
  },
  {
   "cell_type": "code",
   "execution_count": 150,
   "id": "2aeee9b9",
   "metadata": {},
   "outputs": [
    {
     "data": {
      "text/plain": [
       "Index(['index', 'belongs_to_collection', 'budget', 'genres', 'id', 'imdbId',\n",
       "       'original_language', 'overview', 'popularity', 'release_date',\n",
       "       'revenue', 'runtime', 'spoken_languages', 'tagline', 'title',\n",
       "       'vote_average', 'vote_count', 'cast', 'director', 'writer', 'producer',\n",
       "       'executive producer', 'score', 'wikiId', 'Summary', 'release_year'],\n",
       "      dtype='object')"
      ]
     },
     "execution_count": 150,
     "metadata": {},
     "output_type": "execute_result"
    }
   ],
   "source": [
    "metadata_df.columns"
   ]
  },
  {
   "cell_type": "code",
   "execution_count": 175,
   "id": "e2c9dfce",
   "metadata": {},
   "outputs": [],
   "source": [
    "non_dups = ['index', 'belongs_to_collection', 'budget', 'genres', 'id', 'imdbId',\n",
    "       'original_language', 'overview', 'popularity', 'release_date',\n",
    "       'revenue', 'runtime', 'spoken_languages', 'tagline', 'title',\n",
    "       'vote_average', 'vote_count', 'cast', 'director', 'writer',\n",
    "       'producer', 'executive producer', 'score','wikiId',\n",
    "       'Summary', 'release_year']"
   ]
  },
  {
   "cell_type": "code",
   "execution_count": 72,
   "id": "075096a5",
   "metadata": {},
   "outputs": [],
   "source": [
    "metadata_df.columns = non_dups"
   ]
  },
  {
   "cell_type": "code",
   "execution_count": 52,
   "id": "66fb22be",
   "metadata": {},
   "outputs": [],
   "source": [
    "# metadata_df.head()"
   ]
  },
  {
   "cell_type": "code",
   "execution_count": 151,
   "id": "ca33f5a4",
   "metadata": {},
   "outputs": [],
   "source": [
    "metadata_df.to_csv('network_metadata.csv',index=False)"
   ]
  },
  {
   "cell_type": "markdown",
   "id": "c1fe28fe",
   "metadata": {},
   "source": [
    "### Test reading network_metadata.zip"
   ]
  },
  {
   "cell_type": "code",
   "execution_count": 180,
   "id": "071355bf",
   "metadata": {},
   "outputs": [],
   "source": [
    "metadata_df = pd.read_csv('dataset/network_metadata.zip', compression='zip', header=0, sep=',')[non_dups].set_index('index')"
   ]
  },
  {
   "cell_type": "code",
   "execution_count": 194,
   "id": "25f9b981",
   "metadata": {},
   "outputs": [],
   "source": [
    "# metadata_df.head()"
   ]
  },
  {
   "cell_type": "markdown",
   "id": "e8045622",
   "metadata": {},
   "source": [
    "### Save Networkx Graph"
   ]
  },
  {
   "cell_type": "code",
   "execution_count": 204,
   "id": "858bea73",
   "metadata": {},
   "outputs": [],
   "source": [
    "import ast\n",
    "import pickle"
   ]
  },
  {
   "cell_type": "code",
   "execution_count": 202,
   "id": "3e26f3e6",
   "metadata": {},
   "outputs": [],
   "source": [
    "metadata_df['cast'] = metadata_df['cast'].apply(lambda x: ast.literal_eval(x))"
   ]
  },
  {
   "cell_type": "code",
   "execution_count": 203,
   "id": "001dccff",
   "metadata": {},
   "outputs": [
    {
     "name": "stderr",
     "output_type": "stream",
     "text": [
      "100%|██████████| 24803/24803 [08:41<00:00, 47.55it/s]\n"
     ]
    }
   ],
   "source": [
    "import networkx as nx\n",
    "from tqdm import tqdm\n",
    "def create_network(df, column, min_num_occ = 2):\n",
    "    df = df[['title', column]]\n",
    "    df = df.explode(column)\n",
    "    df.set_index('title', inplace=True)\n",
    "    unique_vals = df[column].value_counts()[list(df[column].value_counts() > min_num_occ)]\n",
    "    edge_list = set()\n",
    "    for i in tqdm(unique_vals.index):\n",
    "        movies = df.loc[df[column] == i].index\n",
    "        for j in movies:\n",
    "            for k in movies:\n",
    "                edge_list.add((j,k))\n",
    "    G = nx.Graph()\n",
    "    G.add_edges_from(edge_list)\n",
    "    return G\n",
    "G = create_network(metadata_df, 'cast', 2)"
   ]
  },
  {
   "cell_type": "code",
   "execution_count": 218,
   "id": "9b169de6",
   "metadata": {},
   "outputs": [],
   "source": [
    "pickle.dump(G, open('graph.txt', 'wb'))"
   ]
  },
  {
   "cell_type": "markdown",
   "id": "4c9b945e",
   "metadata": {},
   "source": [
    "### Test - Read Graph from file"
   ]
  },
  {
   "cell_type": "code",
   "execution_count": 223,
   "id": "8f82c5e1",
   "metadata": {},
   "outputs": [],
   "source": [
    "G_read = pickle.load(open('dataset/graph.txt','rb'))"
   ]
  },
  {
   "cell_type": "code",
   "execution_count": 230,
   "id": "efbab28d",
   "metadata": {},
   "outputs": [
    {
     "data": {
      "text/plain": [
       "True"
      ]
     },
     "execution_count": 230,
     "metadata": {},
     "output_type": "execute_result"
    }
   ],
   "source": [
    "G.nodes() == G_read.nodes()"
   ]
  },
  {
   "cell_type": "markdown",
   "id": "47d0468f",
   "metadata": {},
   "source": [
    "## Collaborative Filtering Based Model"
   ]
  },
  {
   "cell_type": "markdown",
   "id": "5148dbf8",
   "metadata": {},
   "source": [
    "### Read files"
   ]
  },
  {
   "cell_type": "code",
   "execution_count": 43,
   "id": "3e18e1cc",
   "metadata": {},
   "outputs": [],
   "source": [
    "raw_meta = pd.read_csv('dataset/movies_metadata.csv')  \n",
    "raw_rt_sml = pd.read_csv('dataset/ratings_small.csv') "
   ]
  },
  {
   "cell_type": "code",
   "execution_count": 44,
   "id": "62ff542d",
   "metadata": {},
   "outputs": [],
   "source": [
    "dpl_list = pd.concat(g for _, g in raw_meta.groupby(\"id\") if len(g) > 1).id.unique().tolist()\n",
    "raw_meta = raw_meta.loc[~raw_meta['id'].isin(dpl_list)]\n",
    "meta_df = raw_meta[['id','overview','runtime','title','release_date', 'genres','vote_average']] #\n",
    "meta_df.dropna(how='any',inplace=True)\n",
    "movieid_title = meta_df[['id','title']]\n",
    "movieid_title['id'] = movieid_title['id'].astype(int)\n",
    "# keep only movies that can find names by id\n",
    "inter_movies_sml = list(set(movieid_title.id.unique().tolist()).intersection(set(raw_rt_sml.movieId.unique().tolist())))\n",
    "movieid_title = movieid_title.loc[movieid_title['id'].isin(inter_movies_sml)]\n",
    "movie_lookup_dict = dict(zip(movieid_title.id.tolist(), movieid_title.title.tolist())) #movie id and movie name dict\n",
    "\n",
    "rt_df_sml = raw_rt_sml.loc[raw_rt_sml['movieId'].isin(inter_movies_sml)]\n",
    "rt_df_sml.loc[rt_df_sml['rating']>3,'like'] = 10\n",
    "rt_df_sml.loc[rt_df_sml['rating']<=3,'like'] = -10\n",
    "rt_df_sml.userId = rt_df_sml.userId.apply(lambda x: 'U'+str(x))\n",
    "\n",
    "# conver to pivot table\n",
    "user_movie_pivot = rt_df_sml.pivot_table(index='userId', columns='movieId', values='like').fillna(0)\n",
    "\n",
    "# convert dataframe of movie features to scipy sparse matrix\n",
    "# user_movie_features = csr_matrix(user_movie_pivot.values)\n",
    "# # build and train the model\n",
    "# model_nn = NearestNeighbors(metric='cosine', algorithm='brute', n_neighbors=7, n_jobs=-1)\n",
    "# model_nn.fit(user_movie_features)\n",
    "# # get the list of all movie id\n",
    "# movie_list = user_movie_pivot.columns.tolist()"
   ]
  },
  {
   "cell_type": "code",
   "execution_count": 48,
   "id": "fc517743",
   "metadata": {},
   "outputs": [],
   "source": [
    "user_movie_pivot.to_csv('user_movie_pivot.csv')"
   ]
  },
  {
   "cell_type": "code",
   "execution_count": null,
   "id": "1e2da1e0",
   "metadata": {},
   "outputs": [],
   "source": []
  }
 ],
 "metadata": {
  "kernelspec": {
   "display_name": "Python 3",
   "language": "python",
   "name": "python3"
  },
  "language_info": {
   "codemirror_mode": {
    "name": "ipython",
    "version": 3
   },
   "file_extension": ".py",
   "mimetype": "text/x-python",
   "name": "python",
   "nbconvert_exporter": "python",
   "pygments_lexer": "ipython3",
   "version": "3.8.8"
  }
 },
 "nbformat": 4,
 "nbformat_minor": 5
}
