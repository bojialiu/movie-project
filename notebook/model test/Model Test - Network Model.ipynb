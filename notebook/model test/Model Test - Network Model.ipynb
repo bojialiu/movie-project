{
 "cells": [
  {
   "cell_type": "markdown",
   "id": "c47f751d",
   "metadata": {},
   "source": [
    "## Model Test\n",
    "####  Training datasets used here are in .zip compressed version"
   ]
  },
  {
   "cell_type": "code",
   "execution_count": 254,
   "id": "b3794ffe",
   "metadata": {},
   "outputs": [],
   "source": [
    "import pandas as pd\n",
    "import ast\n",
    "import numpy as np\n",
    "import random\n",
    "import re\n",
    "from collections import Counter\n",
    "import networkx as nx\n",
    "from tqdm import tqdm\n",
    "from sklearn.feature_extraction.text import TfidfVectorizer\n",
    "from sklearn.metrics.pairwise import linear_kernel\n",
    "from scipy.sparse import csr_matrix\n",
    "from sklearn.neighbors import NearestNeighbors\n",
    "import ast\n",
    "import csv\n",
    "import pickle"
   ]
  },
  {
   "cell_type": "markdown",
   "id": "a2469109",
   "metadata": {},
   "source": [
    "## Model 1: Network Based Model"
   ]
  },
  {
   "cell_type": "code",
   "execution_count": 303,
   "id": "db2fbde2",
   "metadata": {},
   "outputs": [],
   "source": [
    "metadata_df = pd.read_csv('../dataset/network_metadata.zip', compression='zip', header=0, sep=',')\n",
    "# metadata_df['cast'] = metadata_df['cast'].apply(lambda x: ast.literal_eval(x))"
   ]
  },
  {
   "cell_type": "code",
   "execution_count": 499,
   "id": "b5b669ff",
   "metadata": {},
   "outputs": [
    {
     "data": {
      "text/html": [
       "<div>\n",
       "<style scoped>\n",
       "    .dataframe tbody tr th:only-of-type {\n",
       "        vertical-align: middle;\n",
       "    }\n",
       "\n",
       "    .dataframe tbody tr th {\n",
       "        vertical-align: top;\n",
       "    }\n",
       "\n",
       "    .dataframe thead th {\n",
       "        text-align: right;\n",
       "    }\n",
       "</style>\n",
       "<table border=\"1\" class=\"dataframe\">\n",
       "  <thead>\n",
       "    <tr style=\"text-align: right;\">\n",
       "      <th></th>\n",
       "      <th>index</th>\n",
       "      <th>belongs_to_collection</th>\n",
       "      <th>budget</th>\n",
       "      <th>genres</th>\n",
       "      <th>id</th>\n",
       "      <th>imdbId</th>\n",
       "      <th>original_language</th>\n",
       "      <th>overview</th>\n",
       "      <th>popularity</th>\n",
       "      <th>release_date</th>\n",
       "      <th>...</th>\n",
       "      <th>vote_count</th>\n",
       "      <th>cast</th>\n",
       "      <th>director</th>\n",
       "      <th>writer</th>\n",
       "      <th>producer</th>\n",
       "      <th>executive producer</th>\n",
       "      <th>score</th>\n",
       "      <th>wikiId</th>\n",
       "      <th>Summary</th>\n",
       "      <th>release_year</th>\n",
       "    </tr>\n",
       "  </thead>\n",
       "  <tbody>\n",
       "    <tr>\n",
       "      <th>8849</th>\n",
       "      <td>11799</td>\n",
       "      <td>None</td>\n",
       "      <td>0</td>\n",
       "      <td>['Mystery', 'Horror', 'Thriller']</td>\n",
       "      <td>16764</td>\n",
       "      <td>367153.0</td>\n",
       "      <td>en</td>\n",
       "      <td>A historic Hollywood hotel houses a supernatur...</td>\n",
       "      <td>4.710011</td>\n",
       "      <td>2004-11-12</td>\n",
       "      <td>...</td>\n",
       "      <td>37.0</td>\n",
       "      <td>['Brent Roam', 'Angela Bettis', 'Rance Howard'...</td>\n",
       "      <td>['Tobe Hooper']</td>\n",
       "      <td>[]</td>\n",
       "      <td>['Terence S. Potter', 'Jacqueline Quella', 'To...</td>\n",
       "      <td>['Ronnie Truss', 'Mark Wooding', 'Ryan Carroll...</td>\n",
       "      <td>[]</td>\n",
       "      <td>7960697</td>\n",
       "      <td>In a small apartment complex, somebody in a sk...</td>\n",
       "      <td>2004.0</td>\n",
       "    </tr>\n",
       "    <tr>\n",
       "      <th>19755</th>\n",
       "      <td>24187</td>\n",
       "      <td>None</td>\n",
       "      <td>0</td>\n",
       "      <td>['Horror']</td>\n",
       "      <td>87852</td>\n",
       "      <td>85937.0</td>\n",
       "      <td>en</td>\n",
       "      <td>A guy kills his wife because she's a bad cook.</td>\n",
       "      <td>0.084197</td>\n",
       "      <td>1983-08-31</td>\n",
       "      <td>...</td>\n",
       "      <td>19.0</td>\n",
       "      <td>['Jackie Vernon', 'Loren Schein', 'Al Troupe',...</td>\n",
       "      <td>['Wayne Berwick']</td>\n",
       "      <td>['Thomas Singer']</td>\n",
       "      <td>['Craig Muckler', 'Thomas Singer']</td>\n",
       "      <td>[]</td>\n",
       "      <td>['Leif Horvath']</td>\n",
       "      <td>26938419</td>\n",
       "      <td>Donald  is a construction worker with a big pr...</td>\n",
       "      <td>1983.0</td>\n",
       "    </tr>\n",
       "    <tr>\n",
       "      <th>567</th>\n",
       "      <td>788</td>\n",
       "      <td>None</td>\n",
       "      <td>0</td>\n",
       "      <td>['Drama', 'Family', 'Adventure']</td>\n",
       "      <td>21352</td>\n",
       "      <td>109120.0</td>\n",
       "      <td>en</td>\n",
       "      <td>The true story of how a marine seal named Andr...</td>\n",
       "      <td>3.139316</td>\n",
       "      <td>1994-08-17</td>\n",
       "      <td>...</td>\n",
       "      <td>31.0</td>\n",
       "      <td>['Tina Majorino', 'Keith Carradine', 'Chelsea ...</td>\n",
       "      <td>['George T. Miller']</td>\n",
       "      <td>['Harry Goodridge', 'Lew Dietz']</td>\n",
       "      <td>[]</td>\n",
       "      <td>['Donald Kushner']</td>\n",
       "      <td>[]</td>\n",
       "      <td>4419809</td>\n",
       "      <td>In 1962 Toni Whitney, a nine-year-old girl, an...</td>\n",
       "      <td>1994.0</td>\n",
       "    </tr>\n",
       "  </tbody>\n",
       "</table>\n",
       "<p>3 rows × 26 columns</p>\n",
       "</div>"
      ],
      "text/plain": [
       "       index belongs_to_collection  budget                             genres  \\\n",
       "8849   11799                  None       0  ['Mystery', 'Horror', 'Thriller']   \n",
       "19755  24187                  None       0                         ['Horror']   \n",
       "567      788                  None       0   ['Drama', 'Family', 'Adventure']   \n",
       "\n",
       "          id    imdbId original_language  \\\n",
       "8849   16764  367153.0                en   \n",
       "19755  87852   85937.0                en   \n",
       "567    21352  109120.0                en   \n",
       "\n",
       "                                                overview  popularity  \\\n",
       "8849   A historic Hollywood hotel houses a supernatur...    4.710011   \n",
       "19755     A guy kills his wife because she's a bad cook.    0.084197   \n",
       "567    The true story of how a marine seal named Andr...    3.139316   \n",
       "\n",
       "      release_date  ...  vote_count  \\\n",
       "8849    2004-11-12  ...        37.0   \n",
       "19755   1983-08-31  ...        19.0   \n",
       "567     1994-08-17  ...        31.0   \n",
       "\n",
       "                                                    cast  \\\n",
       "8849   ['Brent Roam', 'Angela Bettis', 'Rance Howard'...   \n",
       "19755  ['Jackie Vernon', 'Loren Schein', 'Al Troupe',...   \n",
       "567    ['Tina Majorino', 'Keith Carradine', 'Chelsea ...   \n",
       "\n",
       "                   director                            writer  \\\n",
       "8849        ['Tobe Hooper']                                []   \n",
       "19755     ['Wayne Berwick']                 ['Thomas Singer']   \n",
       "567    ['George T. Miller']  ['Harry Goodridge', 'Lew Dietz']   \n",
       "\n",
       "                                                producer  \\\n",
       "8849   ['Terence S. Potter', 'Jacqueline Quella', 'To...   \n",
       "19755                 ['Craig Muckler', 'Thomas Singer']   \n",
       "567                                                   []   \n",
       "\n",
       "                                      executive producer             score  \\\n",
       "8849   ['Ronnie Truss', 'Mark Wooding', 'Ryan Carroll...                []   \n",
       "19755                                                 []  ['Leif Horvath']   \n",
       "567                                   ['Donald Kushner']                []   \n",
       "\n",
       "         wikiId                                            Summary  \\\n",
       "8849    7960697  In a small apartment complex, somebody in a sk...   \n",
       "19755  26938419  Donald  is a construction worker with a big pr...   \n",
       "567     4419809  In 1962 Toni Whitney, a nine-year-old girl, an...   \n",
       "\n",
       "      release_year  \n",
       "8849        2004.0  \n",
       "19755       1983.0  \n",
       "567         1994.0  \n",
       "\n",
       "[3 rows x 26 columns]"
      ]
     },
     "execution_count": 499,
     "metadata": {},
     "output_type": "execute_result"
    }
   ],
   "source": [
    "metadata_df.sample(3)"
   ]
  },
  {
   "cell_type": "code",
   "execution_count": 480,
   "id": "0ee610a8",
   "metadata": {},
   "outputs": [
    {
     "data": {
      "text/plain": [
       "Index(['index', 'belongs_to_collection', 'budget', 'genres', 'id', 'imdbId',\n",
       "       'original_language', 'overview', 'popularity', 'release_date',\n",
       "       'revenue', 'runtime', 'spoken_languages', 'tagline', 'title',\n",
       "       'vote_average', 'vote_count', 'cast', 'director', 'writer', 'producer',\n",
       "       'executive producer', 'score', 'wikiId', 'Summary', 'release_year'],\n",
       "      dtype='object')"
      ]
     },
     "execution_count": 480,
     "metadata": {},
     "output_type": "execute_result"
    }
   ],
   "source": [
    "metadata_df.columns"
   ]
  },
  {
   "cell_type": "code",
   "execution_count": 516,
   "id": "c47c65ce",
   "metadata": {},
   "outputs": [
    {
     "data": {
      "text/plain": [
       "'0068646'"
      ]
     },
     "execution_count": 516,
     "metadata": {},
     "output_type": "execute_result"
    }
   ],
   "source": [
    "m = 'The Godfather'\n",
    "imdb_id = metadata_df[metadata_df['title']==m]['imdbId'].astype(int).to_string(index=False).rjust(7,'0')\n",
    "imdb_id\n",
    "# pd.set_option('display.max_colwidth', 50)\n",
    "# metadata_df[metadata_df['title']==m]['vote_average'].to_string().split()[1]\n",
    "# director = metadata_df[metadata_df['title']==m]['director'].to_string(index=False)\n",
    "# \", \".join(ast.literal_eval(metadata_df[metadata_df['title']==m]['director'].to_string(index=False)))"
   ]
  },
  {
   "cell_type": "code",
   "execution_count": 255,
   "id": "06771385",
   "metadata": {},
   "outputs": [],
   "source": [
    "G = pickle.load(open('../dataset/graph.txt','rb'))"
   ]
  },
  {
   "cell_type": "code",
   "execution_count": 256,
   "id": "861ee495",
   "metadata": {},
   "outputs": [],
   "source": [
    "#gets the shortest paths from above network given two movie title inputs to create cast_score\n",
    "\n",
    "def cast_paths(movie1, movie2):\n",
    "    #shortest_path = nx.shortest_path_length(G, source=movie1, target=movie2)\n",
    "    cast_score = dict.fromkeys(metadata_df['title'], 0)\n",
    "    for path in nx.all_simple_paths(G, source=movie1, target=movie2, cutoff = 2):#shortest_path):\n",
    "        cast_score[path[0]] += 2\n",
    "    for path in nx.all_simple_paths(G, source=movie1, target=movie2, cutoff = 3):\n",
    "        for movie in path:\n",
    "            if cast_score[movie] == 0:\n",
    "                cast_score[movie] += 1\n",
    "                \n",
    "    cast_score[movie1] = 0\n",
    "    cast_score[movie2] = 0\n",
    "    \n",
    "    return cast_score"
   ]
  },
  {
   "cell_type": "markdown",
   "id": "f71b4df2",
   "metadata": {},
   "source": [
    "### Save Cosine Similarity File"
   ]
  },
  {
   "cell_type": "code",
   "execution_count": 424,
   "id": "db742fa5",
   "metadata": {},
   "outputs": [],
   "source": [
    "#get cosine similarity matrix of vectorized summaries\n",
    "\n",
    "tfidf_summary = TfidfVectorizer(stop_words='english').fit_transform(metadata_df['Summary'])\n",
    "cosine_similarity = linear_kernel(tfidf_summary, tfidf_summary)"
   ]
  },
  {
   "cell_type": "code",
   "execution_count": 425,
   "id": "cfc1f355",
   "metadata": {},
   "outputs": [
    {
     "data": {
      "text/plain": [
       "array([[1.        , 0.00991408, 0.00790721, ..., 0.00693665, 0.00551457,\n",
       "        0.00379024],\n",
       "       [0.00991408, 1.        , 0.01320353, ..., 0.00132788, 0.00375732,\n",
       "        0.00685326],\n",
       "       [0.00790721, 0.01320353, 1.        , ..., 0.00290051, 0.00537821,\n",
       "        0.00620237],\n",
       "       ...,\n",
       "       [0.00693665, 0.00132788, 0.00290051, ..., 1.        , 0.        ,\n",
       "        0.00408956],\n",
       "       [0.00551457, 0.00375732, 0.00537821, ..., 0.        , 1.        ,\n",
       "        0.0028997 ],\n",
       "       [0.00379024, 0.00685326, 0.00620237, ..., 0.00408956, 0.0028997 ,\n",
       "        1.        ]])"
      ]
     },
     "execution_count": 425,
     "metadata": {},
     "output_type": "execute_result"
    }
   ],
   "source": [
    "cosine_similarity"
   ]
  },
  {
   "cell_type": "code",
   "execution_count": 291,
   "id": "e5b561f3",
   "metadata": {},
   "outputs": [],
   "source": [
    "# import numpy as np\n",
    "# import h5py"
   ]
  },
  {
   "cell_type": "code",
   "execution_count": 292,
   "id": "2ec430ec",
   "metadata": {},
   "outputs": [],
   "source": [
    "# hf = h5py.File('data.h5', 'w')\n",
    "# hf.create_dataset('cos_sim', data=cosine_similarity)\n",
    "# hf.close()"
   ]
  },
  {
   "cell_type": "code",
   "execution_count": 295,
   "id": "2a6a83b7",
   "metadata": {},
   "outputs": [],
   "source": [
    "# hfr = h5py.File('data.h5', 'r')\n",
    "# a = hfr.get('cos_sim')\n",
    "# np.array(a)"
   ]
  },
  {
   "cell_type": "code",
   "execution_count": null,
   "id": "2e7c0022",
   "metadata": {},
   "outputs": [],
   "source": [
    "#### saving array is too expensive in terms of storage space!"
   ]
  },
  {
   "cell_type": "markdown",
   "id": "bbfbb7f8",
   "metadata": {},
   "source": [
    "### add funcs"
   ]
  },
  {
   "cell_type": "code",
   "execution_count": 426,
   "id": "7dd77690",
   "metadata": {},
   "outputs": [],
   "source": [
    "#get all cosine similarities for one movie. helper func for cos_sim_match\n",
    "def get_cos_sim(title, cos_sim = cosine_similarity):\n",
    "    index = metadata_df.index[metadata_df['title'] == title]\n",
    "    cs = cosine_similarity[index][0]\n",
    "    cs[index] = 0 #set cosine sim with self to zero so we don't recommend same movie as input\n",
    "    return cs\n",
    "\n",
    "#given values and assuming keys are movie title, create dictionary. helper func for cos_sim_match\n",
    "def list_to_dict(values):\n",
    "    keys = metadata_df['title']\n",
    "    dictionary = dict(zip(keys, values))\n",
    "    #dictionary = sorted(dictionary.items(), key=lambda item: item[1], reverse=True)\n",
    "    return dictionary\n",
    "\n",
    "#get cosine_sim for both movie inputs and add together for cosine_sim score\n",
    "def cos_sim_match(movie1, movie2):\n",
    "    cs_movie1 = get_cos_sim(title = movie1)\n",
    "    cs_movie2 = get_cos_sim(title = movie2)\n",
    "    summary_score = list_to_dict(cs_movie1*np.max(cs_movie2) + cs_movie2*np.max(cs_movie1))\n",
    "    return dict(summary_score)"
   ]
  },
  {
   "cell_type": "code",
   "execution_count": 427,
   "id": "5f05436b",
   "metadata": {},
   "outputs": [],
   "source": [
    "all_genres = {'Action',\n",
    " 'Adventure',\n",
    " 'Animation',\n",
    " 'Comedy',\n",
    " 'Crime',\n",
    " 'Documentary',\n",
    " 'Drama',\n",
    " 'Family',\n",
    " 'Fantasy',\n",
    " 'Foreign',\n",
    " 'History',\n",
    " 'Horror',\n",
    " 'Music',\n",
    " 'Mystery',\n",
    " 'Romance',\n",
    " 'Science Fiction',\n",
    " 'TV Movie',\n",
    " 'Thriller',\n",
    " 'War',\n",
    " 'Western'}"
   ]
  },
  {
   "cell_type": "code",
   "execution_count": 428,
   "id": "32691d31",
   "metadata": {},
   "outputs": [],
   "source": [
    "# genres_dict = {}\n",
    "# for genre in all_genres:\n",
    "#     genres_dict[genre] = dict.fromkeys(all_genres, 1)\n",
    "#     for i in metadata_df['genres']:\n",
    "#         i = lst = ast.literal_eval(i)\n",
    "#         if genre in i:\n",
    "#             for j in i:\n",
    "#                 genres_dict[genre][j] = genres_dict[genre][j]+1\n",
    "#     genres_dict[genre] = sorted(genres_dict[genre].items(), key=lambda item: item[1], reverse=True)\n",
    "# genres_dict['Drama']"
   ]
  },
  {
   "cell_type": "code",
   "execution_count": 429,
   "id": "efe77c3c",
   "metadata": {},
   "outputs": [],
   "source": [
    "# genres_df = pd.DataFrame.from_dict(genres_dict)"
   ]
  },
  {
   "cell_type": "code",
   "execution_count": 430,
   "id": "9ff8b1d8",
   "metadata": {},
   "outputs": [],
   "source": [
    "# genres_df.to_csv('../dataset/genres.csv',index=False)"
   ]
  },
  {
   "cell_type": "code",
   "execution_count": 431,
   "id": "aee52d7c",
   "metadata": {},
   "outputs": [
    {
     "data": {
      "text/plain": [
       "[('Drama', 10383),\n",
       " ('Romance', 2687),\n",
       " ('Comedy', 2186),\n",
       " ('Thriller', 2093),\n",
       " ('Crime', 1571),\n",
       " ('Action', 1423),\n",
       " ('Mystery', 724),\n",
       " ('Adventure', 627),\n",
       " ('War', 564),\n",
       " ('History', 553),\n",
       " ('Family', 496),\n",
       " ('Horror', 469),\n",
       " ('Foreign', 447),\n",
       " ('Fantasy', 392),\n",
       " ('Music', 359),\n",
       " ('Science Fiction', 327),\n",
       " ('Western', 179),\n",
       " ('TV Movie', 165),\n",
       " ('Animation', 92),\n",
       " ('Documentary', 44)]"
      ]
     },
     "execution_count": 431,
     "metadata": {},
     "output_type": "execute_result"
    }
   ],
   "source": [
    "read_dict = pd.read_csv('../dataset/genres.csv').to_dict('list')\n",
    "genres_dict = {}\n",
    "for k, v in read_dict.items():\n",
    "    genres_dict[k] = [ast.literal_eval(x) for x in v]\n",
    "genres_dict['Drama']"
   ]
  },
  {
   "cell_type": "code",
   "execution_count": 432,
   "id": "d426264e",
   "metadata": {},
   "outputs": [],
   "source": [
    "#create genre score\n",
    "\n",
    "#randomly pick genre from available options if movie has more than one genre,\n",
    "#and take the genre most commonly associated with that chosen genre (do for both movies)\n",
    "#and check to see if those two new genres match each other or any of the original genres\n",
    "#helper func for match_genres\n",
    "def randomized_genre_pick(genre1, genre2):\n",
    "    genre1_pick = genres_dict[random.choice(genre1[0])][1][0]\n",
    "    genre2_pick = genres_dict[random.choice(genre2[0])][1][0]\n",
    "    return set([genre1_pick, genre2_pick, genre1, genre2])\n",
    "\n",
    "\n",
    "def match_genres(movie1, movie2):\n",
    "    genre1 = list(metadata_df.loc[metadata_df['title'] == movie1, 'genres'])\n",
    "    genre2 = list(metadata_df.loc[metadata_df['title'] == movie2, 'genres'])\n",
    "    intersect = set(genre1[0]) & set(genre2[0])\n",
    "\n",
    "    #if the two movie inputs don't have a genre in common,\n",
    "    #we'll use randomized_genre_pick to try to find a similar genre in common\n",
    "    emergency_count = 0\n",
    "    while len(intersect) == 0:\n",
    "        intersect = randomized_genre_pick(genre1, genre2)\n",
    "        emergency_count += 1\n",
    "        \n",
    "        #the most common genre is drama. If it can't find a matching one\n",
    "        #after x iterations, we'll just pick drama as the matching one\n",
    "        if emergency_count > 20:\n",
    "            intersect = set(['Drama'])\n",
    "            break\n",
    "        \n",
    "    genre_score = dict.fromkeys(metadata_df['title'], 1)\n",
    "    for i in metadata_df.index:\n",
    "        if intersect.issubset(metadata_df['genres'].iloc[i]):\n",
    "            genre_score[metadata_df['title'].iloc[i]] = 2\n",
    "    \n",
    "    #to help avoid picking input movies for output\n",
    "    genre_score[movie1] = 0\n",
    "    genre_score[movie2] = 0\n",
    "    \n",
    "    return genre_score\n",
    "\n",
    "#match_genres('Jumanji', 'Grumpier Old Men')"
   ]
  },
  {
   "cell_type": "code",
   "execution_count": 433,
   "id": "2090905f",
   "metadata": {},
   "outputs": [],
   "source": [
    "#create score for ranking varaiables like vote and popularity\n",
    "#find range between two input movies and give higher score to new movies in that range\n",
    "\n",
    "def range_score(movie1, movie2, prop):\n",
    "    movie1 = float(metadata_df[metadata_df['title'] == movie1][prop])\n",
    "    movie2 = float(metadata_df[metadata_df['title'] == movie2][prop])\n",
    "    \n",
    "    max_score = max(movie1, movie2)\n",
    "    min_score = min(movie1, movie2)\n",
    "    \n",
    "    score = dict.fromkeys(metadata_df['title'], 1)\n",
    "    for index in metadata_df.index:\n",
    "        this_move_score = float(metadata_df[prop].iloc[index])\n",
    "        if this_move_score > min_score and this_move_score < max_score:\n",
    "            score[metadata_df['title'].iloc[index]] = 2\n",
    "    \n",
    "    score[movie1] = 0\n",
    "    score[movie2] = 0 \n",
    "    \n",
    "    return score"
   ]
  },
  {
   "cell_type": "code",
   "execution_count": null,
   "id": "c4f481e7",
   "metadata": {},
   "outputs": [],
   "source": []
  },
  {
   "cell_type": "code",
   "execution_count": 434,
   "id": "b83f3ed4",
   "metadata": {},
   "outputs": [],
   "source": [
    "#use levenshtein distance to match mispelled inputs with a movie title in metadata_df\n",
    "\n",
    "import Levenshtein as lev\n",
    "\n",
    "def fuzzy_match(movie):\n",
    "    ratio_list = []\n",
    "    for i in metadata_df['title']:\n",
    "        #if statement to remove release years added to titles where name refers to more than one movie\n",
    "        if i[-1] == ')' and i[-6] == '(':\n",
    "            ratio_list.append(lev.ratio(movie.lower(), i[0:-6].lower()))\n",
    "        else:\n",
    "            ratio_list.append(lev.ratio(movie.lower(), i.lower()))\n",
    "    return movie, metadata_df['title'].iloc[np.argmax(ratio_list)] #return closest match"
   ]
  },
  {
   "cell_type": "code",
   "execution_count": 435,
   "id": "ed9c1017",
   "metadata": {},
   "outputs": [],
   "source": [
    "#combine scores defined above with weights to calculate score for each movie to recommend\n",
    "\n",
    "def movie_matcher(movie1, movie2):\n",
    "    \n",
    "    #match user query to movie title in metadata_df\n",
    "    user_query_1, movie1 = fuzzy_match(movie1)\n",
    "    user_query_2, movie2 = fuzzy_match(movie2)\n",
    "\n",
    "    #get each score for movie combo\n",
    "    summary_score = cos_sim_match(movie1, movie2)\n",
    "    cast_score = cast_paths(movie1, movie2)\n",
    "    genre_score = match_genres(movie1, movie2)\n",
    "    vote_score = range_score(movie1, movie2, 'vote_average')\n",
    "    popularity_score = range_score(movie1, movie2, 'popularity')\n",
    "    \n",
    "    #weights for each score\n",
    "    w1 = 3\n",
    "    w2 = 1\n",
    "    w3 = 3\n",
    "    w4 = 1\n",
    "    w5 = 1\n",
    "\n",
    "    #update scores with weights\n",
    "    summary_score.update((x,y*w1) for x,y in summary_score.items())\n",
    "    cast_score.update((x,y*w2) for x,y in cast_score.items())\n",
    "    genre_score.update((x,y*w3) for x,y in genre_score.items())\n",
    "    vote_score.update((x,y*w4) for x,y in vote_score.items())\n",
    "    popularity_score.update((x,y*w5) for x,y in popularity_score.items())\n",
    "\n",
    "    final_score = Counter(summary_score) + Counter(cast_score) + Counter(genre_score) \\\n",
    "                    + Counter(vote_score) + Counter(popularity_score)\n",
    "    final_score = sorted(final_score.items(), key=lambda item: item[1], reverse=True)\n",
    "\n",
    "    print('User Query 1: '+user_query_1+'    Matched to: '+movie1)\n",
    "    print('User Query 2: '+user_query_2+'    Matched to: '+movie2)\n",
    "    \n",
    "    return final_score[0:10]#summary_score, cast_score, genre_score"
   ]
  },
  {
   "cell_type": "code",
   "execution_count": 436,
   "id": "6adcacd3",
   "metadata": {},
   "outputs": [
    {
     "name": "stdout",
     "output_type": "stream",
     "text": [
      "User Query 1: 2001 a psace oddysyey    Matched to: 2001: A Space Odyssey\n",
      "User Query 2: Blad Runer    Matched to: Blade Runner\n"
     ]
    },
    {
     "data": {
      "text/plain": [
       "[('The Fifth Element', 10.034464744959557),\n",
       " ('Alien', 9.046067273606106),\n",
       " ('The Tommyknockers', 9.042524574842103),\n",
       " ('Rise of the Planet of the Apes', 9.039393155622776),\n",
       " ('The Day the Earth Stood Still(2008)', 9.032847616752592),\n",
       " ('Superman(1978)', 9.032319582475207),\n",
       " ('Saturn 3', 9.030049787382612),\n",
       " ('Cowboys & Aliens', 9.02878006539675),\n",
       " ('Colossus: The Forbin Project', 9.027725056432946),\n",
       " ('The Star Wars Holiday Special', 9.024792166662813)]"
      ]
     },
     "execution_count": 436,
     "metadata": {},
     "output_type": "execute_result"
    }
   ],
   "source": [
    "movie_matcher('2001 a psace oddysyey', 'Blad Runer')"
   ]
  },
  {
   "cell_type": "code",
   "execution_count": 438,
   "id": "3fb11810",
   "metadata": {},
   "outputs": [
    {
     "name": "stdout",
     "output_type": "stream",
     "text": [
      "User Query 1: Titanic    Matched to: Titanic(1997)\n",
      "User Query 2: Harry Potter    Matched to: Harper\n"
     ]
    }
   ],
   "source": [
    "res = movie_matcher('Titanic','Harry Potter')"
   ]
  },
  {
   "cell_type": "code",
   "execution_count": 440,
   "id": "3762f7ff",
   "metadata": {},
   "outputs": [
    {
     "data": {
      "text/plain": [
       "'Alive(1993)'"
      ]
     },
     "execution_count": 440,
     "metadata": {},
     "output_type": "execute_result"
    }
   ],
   "source": [
    "res[0][0]"
   ]
  },
  {
   "cell_type": "code",
   "execution_count": 421,
   "id": "b67d52dd",
   "metadata": {},
   "outputs": [],
   "source": [
    "def matched_movie_info(movie1, movie2):\n",
    "    output_lst = movie_matcher(movie1, movie2)\n",
    "    for movie, score in output_lst:\n",
    "        metadata = metadata_df[metadata_df['title']==movie]"
   ]
  },
  {
   "cell_type": "code",
   "execution_count": 276,
   "id": "4ddf33a3",
   "metadata": {},
   "outputs": [
    {
     "data": {
      "text/html": [
       "<div>\n",
       "<style scoped>\n",
       "    .dataframe tbody tr th:only-of-type {\n",
       "        vertical-align: middle;\n",
       "    }\n",
       "\n",
       "    .dataframe tbody tr th {\n",
       "        vertical-align: top;\n",
       "    }\n",
       "\n",
       "    .dataframe thead th {\n",
       "        text-align: right;\n",
       "    }\n",
       "</style>\n",
       "<table border=\"1\" class=\"dataframe\">\n",
       "  <thead>\n",
       "    <tr style=\"text-align: right;\">\n",
       "      <th></th>\n",
       "      <th>index</th>\n",
       "      <th>belongs_to_collection</th>\n",
       "      <th>budget</th>\n",
       "      <th>genres</th>\n",
       "      <th>id</th>\n",
       "      <th>imdbId</th>\n",
       "      <th>original_language</th>\n",
       "      <th>overview</th>\n",
       "      <th>popularity</th>\n",
       "      <th>release_date</th>\n",
       "      <th>...</th>\n",
       "      <th>vote_count</th>\n",
       "      <th>cast</th>\n",
       "      <th>director</th>\n",
       "      <th>writer</th>\n",
       "      <th>producer</th>\n",
       "      <th>executive producer</th>\n",
       "      <th>score</th>\n",
       "      <th>wikiId</th>\n",
       "      <th>Summary</th>\n",
       "      <th>release_year</th>\n",
       "    </tr>\n",
       "  </thead>\n",
       "  <tbody>\n",
       "    <tr>\n",
       "      <th>1613</th>\n",
       "      <td>2424</td>\n",
       "      <td>None</td>\n",
       "      <td>200000000</td>\n",
       "      <td>['Drama', 'Romance', 'Thriller']</td>\n",
       "      <td>597</td>\n",
       "      <td>120338.0</td>\n",
       "      <td>en</td>\n",
       "      <td>84 years later, a 101-year-old woman named Ros...</td>\n",
       "      <td>26.88907</td>\n",
       "      <td>1997-11-18</td>\n",
       "      <td>...</td>\n",
       "      <td>7770.0</td>\n",
       "      <td>[Kate Winslet, Leonardo DiCaprio, Frances Fish...</td>\n",
       "      <td>['James Cameron']</td>\n",
       "      <td>['James Cameron']</td>\n",
       "      <td>['James Cameron', 'Jon Landau']</td>\n",
       "      <td>['Rae Sanchini']</td>\n",
       "      <td>[]</td>\n",
       "      <td>52371</td>\n",
       "      <td>In 1996, treasure hunter Brock Lovett and his...</td>\n",
       "      <td>1997.0</td>\n",
       "    </tr>\n",
       "  </tbody>\n",
       "</table>\n",
       "<p>1 rows × 26 columns</p>\n",
       "</div>"
      ],
      "text/plain": [
       "      index belongs_to_collection     budget  \\\n",
       "1613   2424                  None  200000000   \n",
       "\n",
       "                                genres   id    imdbId original_language  \\\n",
       "1613  ['Drama', 'Romance', 'Thriller']  597  120338.0                en   \n",
       "\n",
       "                                               overview  popularity  \\\n",
       "1613  84 years later, a 101-year-old woman named Ros...    26.88907   \n",
       "\n",
       "     release_date  ...  vote_count  \\\n",
       "1613   1997-11-18  ...      7770.0   \n",
       "\n",
       "                                                   cast           director  \\\n",
       "1613  [Kate Winslet, Leonardo DiCaprio, Frances Fish...  ['James Cameron']   \n",
       "\n",
       "                 writer                         producer  executive producer  \\\n",
       "1613  ['James Cameron']  ['James Cameron', 'Jon Landau']    ['Rae Sanchini']   \n",
       "\n",
       "      score wikiId                                            Summary  \\\n",
       "1613     []  52371   In 1996, treasure hunter Brock Lovett and his...   \n",
       "\n",
       "     release_year  \n",
       "1613       1997.0  \n",
       "\n",
       "[1 rows x 26 columns]"
      ]
     },
     "execution_count": 276,
     "metadata": {},
     "output_type": "execute_result"
    }
   ],
   "source": [
    "metadata_df[metadata_df['title']=='Titanic(1997)']"
   ]
  },
  {
   "cell_type": "code",
   "execution_count": null,
   "id": "cc232aea",
   "metadata": {},
   "outputs": [],
   "source": []
  }
 ],
 "metadata": {
  "kernelspec": {
   "display_name": "Python 3",
   "language": "python",
   "name": "python3"
  },
  "language_info": {
   "codemirror_mode": {
    "name": "ipython",
    "version": 3
   },
   "file_extension": ".py",
   "mimetype": "text/x-python",
   "name": "python",
   "nbconvert_exporter": "python",
   "pygments_lexer": "ipython3",
   "version": "3.8.8"
  }
 },
 "nbformat": 4,
 "nbformat_minor": 5
}
