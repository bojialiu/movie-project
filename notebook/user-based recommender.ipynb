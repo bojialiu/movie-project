{
 "cells": [
  {
   "cell_type": "markdown",
   "id": "fossil-injection",
   "metadata": {},
   "source": [
    "## Data loading and cleaning"
   ]
  },
  {
   "cell_type": "code",
   "execution_count": 1,
   "id": "speaking-account",
   "metadata": {},
   "outputs": [],
   "source": [
    "import pandas as pd\n",
    "import numpy as np\n",
    "import re\n",
    "from scipy.sparse import csr_matrix\n",
    "from sklearn.neighbors import NearestNeighbors\n",
    "import random\n",
    "from collections import Counter"
   ]
  },
  {
   "cell_type": "code",
   "execution_count": 4,
   "id": "charming-saudi",
   "metadata": {},
   "outputs": [],
   "source": [
    "raw_meta = pd.read_csv('resource/movies_metadata.csv')  \n",
    "raw_rt_sml = pd.read_csv('resource/ratings_small.csv') \n",
    "dpl_list = pd.concat(g for _, g in raw_meta.groupby(\"id\") if len(g) > 1).id.unique().tolist()\n",
    "raw_meta = raw_meta.loc[~raw_meta['id'].isin(dpl_list)]\n",
    "meta_df = raw_meta[['id','overview','runtime','title','release_date', 'genres','vote_average']] #\n",
    "meta_df.dropna(how='any',inplace=True)\n",
    "movieid_title = meta_df[['id','title']]\n",
    "movieid_title['id'] = movieid_title['id'].astype(int)\n",
    "# keep only movies that can find names by id\n",
    "inter_movies_sml = list(set(movieid_title.id.unique().tolist()).intersection(set(raw_rt_sml.movieId.unique().tolist())))\n",
    "movieid_title = movieid_title.loc[movieid_title['id'].isin(inter_movies_sml)]\n",
    "movie_lookup_dict = dict(zip(movieid_title.id.tolist(), movieid_title.title.tolist())) #movie id and movie name dict\n",
    "\n",
    "rt_df_sml = raw_rt_sml.loc[raw_rt_sml['movieId'].isin(inter_movies_sml)]\n",
    "rt_df_sml.loc[rt_df_sml['rating']>3,'like'] = 10\n",
    "rt_df_sml.loc[rt_df_sml['rating']<=3,'like'] = -10\n",
    "rt_df_sml.userId = rt_df_sml.userId.apply(lambda x: 'U'+str(x))\n",
    "\n",
    "# conver to pivot table\n",
    "user_movie_pivot = rt_df_sml.pivot_table(index='userId', columns='movieId', values='like').fillna(0)\n",
    "# convert dataframe of movie features to scipy sparse matrix\n",
    "user_movie_features = csr_matrix(user_movie_pivot.values)\n",
    "# build and train the model\n",
    "model_nn = NearestNeighbors(metric='cosine', algorithm='brute', n_neighbors=7, n_jobs=-1)\n",
    "model_nn.fit(user_movie_features)\n",
    "# get the list of all movie id\n",
    "movie_list = user_movie_pivot.columns.tolist()"
   ]
  },
  {
   "cell_type": "markdown",
   "id": "outstanding-substance",
   "metadata": {},
   "source": [
    "## Function to generate random 10 movies for user to rate (like/dislike/dont know)"
   ]
  },
  {
   "cell_type": "code",
   "execution_count": 5,
   "id": "lucky-instrument",
   "metadata": {},
   "outputs": [],
   "source": [
    "# This functin returns movies names and ids. To use it, there should be a variable storing the id for the next recommending function.\n",
    "def provide_movies_to_user(num):\n",
    "    ran_id = random.sample(movie_list, num)\n",
    "    ran_name = [movie_lookup_dict[ran] for ran in ran_id]\n",
    "    return ran_name,ran_id"
   ]
  },
  {
   "cell_type": "markdown",
   "id": "australian-afghanistan",
   "metadata": {},
   "source": [
    "## Function to take in user feedback and recommend accordingly"
   ]
  },
  {
   "cell_type": "code",
   "execution_count": 6,
   "id": "caroline-database",
   "metadata": {},
   "outputs": [],
   "source": [
    "# Helper function 1 -- to exclude movies that users already seen from the recommendation list\n",
    "def exclude_seen_movies(u_select):\n",
    "    # get seen movie id from user feedback\n",
    "    seen_id_list = [m for m,r in u_select if r!=0]\n",
    "    seen_name_list = [movie_lookup_dict[x] for x in seen_id_list]\n",
    "    return seen_name_list                    "
   ]
  },
  {
   "cell_type": "code",
   "execution_count": 7,
   "id": "daily-translation",
   "metadata": {},
   "outputs": [],
   "source": [
    "# Helper function 2 -- to get users with similar preferences for these 10 movies\n",
    "def get_similar_users(u_select):\n",
    "    # get movie id of user feedback\n",
    "    p_id_list = [m for m,r in u_select if r>0]\n",
    "    n_id_list = [m for m,r in u_select if r<0]\n",
    "\n",
    "    # get index of movie for user feedback\n",
    "    p_idx_list = [movie_list.index(x) for x in p_id_list]\n",
    "    n_idx_list = [movie_list.index(x) for x in n_id_list]\n",
    "\n",
    "    # create input array of same dimension for prediction\n",
    "      # modify value of corresponding index to 10/-10\n",
    "    user_fb_arr = np.zeros((1,2807))\n",
    "    for idx1 in p_idx_list:\n",
    "        user_fb_arr[0,idx1] = 10\n",
    "    for idx2 in n_idx_list:\n",
    "        user_fb_arr[0,idx2] = -10\n",
    "    \n",
    "    # find users who have similar preferences for these movies\n",
    "    neigh_idx = model_nn.kneighbors(user_fb_arr, 3, return_distance=False)\n",
    "    users_id = [] \n",
    "    for user_idx, val in enumerate(user_movie_pivot.index[neigh_idx][0]):\n",
    "        users_id.append(val)\n",
    "        #print((user_idx+1),\". \",val)\n",
    "    return users_id"
   ]
  },
  {
   "cell_type": "code",
   "execution_count": 8,
   "id": "impaired-fluid",
   "metadata": {},
   "outputs": [],
   "source": [
    "# Helper function 3 -- To get movies liked by those similar users \n",
    "def get_sim_user_like(sim_user_idx):\n",
    "    user_row = user_movie_pivot.loc[[sim_user_idx]].values.flatten().tolist()\n",
    "    user_like_movie_idx = []\n",
    "    i = 0\n",
    "    for y in user_row:\n",
    "        if y == 10:\n",
    "            user_like_movie_idx.append(i)\n",
    "        i += 1\n",
    "    if len(user_like_movie_idx) > 0:\n",
    "        user_like_movie_id = [movie_list[m] for m in user_like_movie_idx]\n",
    "        user_like_movie_name = [movie_lookup_dict[n] for n in user_like_movie_id]\n",
    "        return user_like_movie_name\n",
    "    else:\n",
    "        print('no similar user found')\n"
   ]
  },
  {
   "cell_type": "code",
   "execution_count": 10,
   "id": "american-valley",
   "metadata": {},
   "outputs": [],
   "source": [
    "# Recommendation function\n",
    "def recommend_to_user(u_fb):\n",
    "\n",
    "    feedback_list = list(zip(provide[1],u_fb))\n",
    "    sim_user_ids = get_similar_users(feedback_list)\n",
    "    movie_exclude = exclude_seen_movies(feedback_list)\n",
    "\n",
    "    recommend_list = []\n",
    "    for each in sim_user_ids:\n",
    "        each_like = get_sim_user_like(each)\n",
    "        each_like_cl = [mov for mov in each_like if mov not in movie_exclude]\n",
    "        recommend_list.extend(each_like_cl)\n",
    "\n",
    "    counter = Counter(recommend_list)\n",
    "    toplist = counter.most_common(5)\n",
    "    recommend_movies = [tl for tl,ct in toplist]\n",
    "    return recommend_movies"
   ]
  },
  {
   "cell_type": "markdown",
   "id": "statewide-conversion",
   "metadata": {},
   "source": [
    "### Examples on how to call these functions"
   ]
  },
  {
   "cell_type": "code",
   "execution_count": 11,
   "id": "decimal-heart",
   "metadata": {},
   "outputs": [
    {
     "data": {
      "text/plain": [
       "['Within the Woods',\n",
       " 'Persepolis',\n",
       " 'The Pebble and the Penguin',\n",
       " 'Dog Eat Dog',\n",
       " 'Fighting Elegy',\n",
       " 'Shopgirl',\n",
       " 'Children of the Corn IV: The Gathering',\n",
       " 'The Blue Angel',\n",
       " 'St. Louis Blues',\n",
       " 'Monsters, Inc.']"
      ]
     },
     "execution_count": 11,
     "metadata": {},
     "output_type": "execute_result"
    }
   ],
   "source": [
    "# Call provider function to show 10 movies to start with and store the movie name, id pair in a global variable\n",
    "provide = provide_movies_to_user(10)\n",
    "provide[0]"
   ]
  },
  {
   "cell_type": "code",
   "execution_count": 12,
   "id": "reverse-expense",
   "metadata": {
    "scrolled": true
   },
   "outputs": [
    {
     "data": {
      "text/plain": [
       "['Solaris',\n",
       " 'Rebecca',\n",
       " 'Young and Innocent',\n",
       " 'The Searchers',\n",
       " 'Sleepless in Seattle']"
      ]
     },
     "execution_count": 12,
     "metadata": {},
     "output_type": "execute_result"
    }
   ],
   "source": [
    "# Upon receiving user feedback (the input of this function), make recommendations\n",
    "recommend_to_user([10,0,-10,10,0,10,0,0])"
   ]
  }
 ],
 "metadata": {
  "kernelspec": {
   "display_name": "Python 3 (ipykernel)",
   "language": "python",
   "name": "python3"
  },
  "language_info": {
   "codemirror_mode": {
    "name": "ipython",
    "version": 3
   },
   "file_extension": ".py",
   "mimetype": "text/x-python",
   "name": "python",
   "nbconvert_exporter": "python",
   "pygments_lexer": "ipython3",
   "version": "3.7.10"
  }
 },
 "nbformat": 4,
 "nbformat_minor": 5
}
